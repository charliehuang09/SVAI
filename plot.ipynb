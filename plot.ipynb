{
 "cells": [
  {
   "cell_type": "code",
   "execution_count": 22,
   "metadata": {},
   "outputs": [],
   "source": [
    "import pandas as pd\n",
    "import datetime\n",
    "import numpy as np\n",
    "import matplotlib.pyplot as plt\n",
    "import torch"
   ]
  },
  {
   "cell_type": "code",
   "execution_count": 23,
   "metadata": {},
   "outputs": [],
   "source": [
    "lightning = pd.read_pickle('cleanedData/lightning.pkl')\n",
    "population = pd.read_pickle('cleanedData/population.pkl')\n",
    "rain = pd.read_pickle('cleanedData/rain.pkl')\n",
    "biomass = pd.read_pickle('cleanedData/biomass.pkl')\n",
    "temperature = pd.read_pickle('cleanedData/temperature.pkl')\n",
    "humidity = pd.read_pickle('cleanedData/humidity.pkl')\n",
    "wind = pd.read_pickle('cleanedData/wind.pkl')\n",
    "soil_moisture = pd.read_pickle('cleanedData/soil_moisture.pkl')\n",
    "fireCCIL1982_2018 = pd.read_pickle('cleanedData/fireCCIL1982-2018.pkl')\n",
    "mcd64 = pd.read_pickle('cleanedData/MCD64.pkl')"
   ]
  },
  {
   "cell_type": "code",
   "execution_count": 24,
   "metadata": {},
   "outputs": [
    {
     "name": "stdout",
     "output_type": "stream",
     "text": [
      "120\n",
      "120\n",
      "120\n",
      "120\n",
      "120\n",
      "120\n",
      "120\n",
      "120\n",
      "120\n",
      "120\n"
     ]
    }
   ],
   "source": [
    "print(lightning.size)\n",
    "print(population.size)\n",
    "print(rain.size)\n",
    "print(biomass.size)\n",
    "print(temperature.size)\n",
    "print(humidity.size)\n",
    "print(wind.size)\n",
    "print(soil_moisture.size)\n",
    "print(fireCCIL1982_2018.size)\n",
    "print(mcd64.size)"
   ]
  },
  {
   "cell_type": "code",
   "execution_count": 25,
   "metadata": {},
   "outputs": [
    {
     "data": {
      "text/plain": [
       "2001-01-31    [[0.0, 0.0, 0.0, 0.0, 0.0, 0.0, 0.0, 0.0, 0.0,...\n",
       "2001-02-28    [[0.0, 0.0, 0.0, 0.0, 0.0, 0.0, 0.0, 0.0, 0.0,...\n",
       "2001-03-31    [[0.0, 0.0, 0.0, 0.0, 0.0, 0.0, 0.0, 0.0, 0.0,...\n",
       "2001-04-30    [[0.0, 0.0, 0.0, 0.0, 0.0, 0.0, 0.0, 0.0, 0.0,...\n",
       "2001-05-31    [[0.0, 0.0, 0.0, 0.0, 0.0, 0.0, 0.0, 0.0, 0.0,...\n",
       "                                    ...                        \n",
       "2010-07-31    [[0.0, 0.0, 0.0, 0.0, 0.0, 0.0, 0.0, 0.0, 0.0,...\n",
       "2010-08-31    [[0.0, 0.0, 0.0, 0.0, 0.0, 0.0, 0.0, 0.0, 0.0,...\n",
       "2010-09-30    [[0.0, 0.0, 0.0, 0.0, 0.0, 0.0, 0.0, 0.0, 0.0,...\n",
       "2010-10-31    [[0.0, 0.0, 0.0, 0.0, 0.0, 0.0, 0.0, 0.0, 0.0,...\n",
       "2010-11-30    [[0.0, 0.0, 0.0, 0.0, 0.0, 0.0, 0.0, 0.0, 0.0,...\n",
       "Freq: ME, Length: 119, dtype: object"
      ]
     },
     "execution_count": 25,
     "metadata": {},
     "output_type": "execute_result"
    }
   ],
   "source": [
    "lightning.head(-1)"
   ]
  },
  {
   "cell_type": "code",
   "execution_count": 26,
   "metadata": {},
   "outputs": [
    {
     "data": {
      "text/plain": [
       "<matplotlib.image.AxesImage at 0x179c9c8b0>"
      ]
     },
     "execution_count": 26,
     "metadata": {},
     "output_type": "execute_result"
    },
    {
     "data": {
      "image/png": "[encoded data removed]",
      "text/plain": [
       "<Figure size 640x480 with 1 Axes>"
      ]
     },
     "metadata": {},
     "output_type": "display_data"
    }
   ],
   "source": [
    "plt.imshow(lightning.iloc[0])"
   ]
  },
  {
   "cell_type": "code",
   "execution_count": 27,
   "metadata": {},
   "outputs": [
    {
     "data": {
      "text/plain": [
       "2001-01-31    [[0.0, 0.0, 0.0, 0.0, 0.0, 0.0, 0.0, 0.0, 44.3...\n",
       "2001-02-28    [[0.0, 0.0, 0.0, 0.0, 0.0, 0.0, 0.0, 0.0, 44.3...\n",
       "2001-03-31    [[0.0, 0.0, 0.0, 0.0, 0.0, 0.0, 0.0, 0.0, 44.3...\n",
       "2001-04-30    [[0.0, 0.0, 0.0, 0.0, 0.0, 0.0, 0.0, 0.0, 44.3...\n",
       "2001-05-31    [[0.0, 0.0, 0.0, 0.0, 0.0, 0.0, 0.0, 0.0, 44.3...\n",
       "                                    ...                        \n",
       "2010-07-31    [[0.0, 0.0, 0.0, 0.0, 0.0, 0.0, 0.0, 0.0, 47.9...\n",
       "2010-08-31    [[0.0, 0.0, 0.0, 0.0, 0.0, 0.0, 0.0, 0.0, 47.9...\n",
       "2010-09-30    [[0.0, 0.0, 0.0, 0.0, 0.0, 0.0, 0.0, 0.0, 47.9...\n",
       "2010-10-31    [[0.0, 0.0, 0.0, 0.0, 0.0, 0.0, 0.0, 0.0, 47.9...\n",
       "2010-11-30    [[0.0, 0.0, 0.0, 0.0, 0.0, 0.0, 0.0, 0.0, 47.9...\n",
       "Freq: ME, Length: 119, dtype: object"
      ]
     },
     "execution_count": 27,
     "metadata": {},
     "output_type": "execute_result"
    }
   ],
   "source": [
    "population.head(-1)"
   ]
  },
  {
   "cell_type": "code",
   "execution_count": 28,
   "metadata": {},
   "outputs": [
    {
     "data": {
      "text/plain": [
       "<matplotlib.image.AxesImage at 0x179e2c310>"
      ]
     },
     "execution_count": 28,
     "metadata": {},
     "output_type": "execute_result"
    },
    {
     "data": {
      "image/png": "[encoded data removed]",
      "text/plain": [
       "<Figure size 640x480 with 1 Axes>"
      ]
     },
     "metadata": {},
     "output_type": "display_data"
    }
   ],
   "source": [
    "plt.imshow(population.iloc[0])"
   ]
  },
  {
   "cell_type": "code",
   "execution_count": 29,
   "metadata": {},
   "outputs": [
    {
     "data": {
      "text/plain": [
       "2001-01-31    [[nan, nan, nan, nan, nan, nan, nan, nan, 7.00...\n",
       "2001-02-28    [[nan, nan, nan, nan, nan, nan, nan, nan, 4.30...\n",
       "2001-03-31    [[nan, nan, nan, nan, nan, nan, nan, nan, 5.78...\n",
       "2001-04-30    [[nan, nan, nan, nan, nan, nan, nan, nan, 4.50...\n",
       "2001-05-31    [[nan, nan, nan, nan, nan, nan, nan, nan, 1.75...\n",
       "                                    ...                        \n",
       "2010-07-31    [[nan, nan, nan, nan, nan, nan, nan, nan, 6.76...\n",
       "2010-08-31    [[nan, nan, nan, nan, nan, nan, nan, nan, 2.56...\n",
       "2010-09-30    [[nan, nan, nan, nan, nan, nan, nan, nan, 6.04...\n",
       "2010-10-31    [[nan, nan, nan, nan, nan, nan, nan, nan, 6.14...\n",
       "2010-11-30    [[nan, nan, nan, nan, nan, nan, nan, nan, 8.05...\n",
       "Freq: ME, Length: 119, dtype: object"
      ]
     },
     "execution_count": 29,
     "metadata": {},
     "output_type": "execute_result"
    }
   ],
   "source": [
    "rain.head(-1)"
   ]
  },
  {
   "cell_type": "code",
   "execution_count": 30,
   "metadata": {},
   "outputs": [
    {
     "data": {
      "text/plain": [
       "<matplotlib.image.AxesImage at 0x17d255ed0>"
      ]
     },
     "execution_count": 30,
     "metadata": {},
     "output_type": "execute_result"
    },
    {
     "data": {
      "image/png": "[encoded data removed]",
      "text/plain": [
       "<Figure size 640x480 with 1 Axes>"
      ]
     },
     "metadata": {},
     "output_type": "display_data"
    }
   ],
   "source": [
    "plt.imshow(rain.iloc[0])"
   ]
  },
  {
   "cell_type": "code",
   "execution_count": 31,
   "metadata": {},
   "outputs": [
    {
     "data": {
      "text/plain": [
       "2001-01-31    [[23.44216585448659, 23.44216585448659, 23.442...\n",
       "2001-02-28    [[23.44216585448659, 23.44216585448659, 23.442...\n",
       "2001-03-31    [[23.44216585448659, 23.44216585448659, 23.442...\n",
       "2001-04-30    [[23.44216585448659, 23.44216585448659, 23.442...\n",
       "2001-05-31    [[23.44216585448659, 23.44216585448659, 23.442...\n",
       "                                    ...                        \n",
       "2010-07-31    [[23.44216585448659, 23.44216585448659, 23.442...\n",
       "2010-08-31    [[23.44216585448659, 23.44216585448659, 23.442...\n",
       "2010-09-30    [[23.44216585448659, 23.44216585448659, 23.442...\n",
       "2010-10-31    [[23.44216585448659, 23.44216585448659, 23.442...\n",
       "2010-11-30    [[23.44216585448659, 23.44216585448659, 23.442...\n",
       "Freq: ME, Length: 119, dtype: object"
      ]
     },
     "execution_count": 31,
     "metadata": {},
     "output_type": "execute_result"
    }
   ],
   "source": [
    "biomass.head(-1)"
   ]
  },
  {
   "cell_type": "code",
   "execution_count": 32,
   "metadata": {},
   "outputs": [
    {
     "data": {
      "text/plain": [
       "<matplotlib.image.AxesImage at 0x17d2a4460>"
      ]
     },
     "execution_count": 32,
     "metadata": {},
     "output_type": "execute_result"
    },
    {
     "data": {
      "image/png": "[encoded data removed]",
      "text/plain": [
       "<Figure size 640x480 with 1 Axes>"
      ]
     },
     "metadata": {},
     "output_type": "display_data"
    }
   ],
   "source": [
    "plt.imshow(biomass.iloc[0])"
   ]
  },
  {
   "cell_type": "code",
   "execution_count": 33,
   "metadata": {},
   "outputs": [
    {
     "data": {
      "text/plain": [
       "2001-01-31    [[nan, nan, nan, nan, nan, nan, nan, nan, 278....\n",
       "2001-02-28    [[nan, nan, nan, nan, nan, nan, nan, nan, 279....\n",
       "2001-03-31    [[nan, nan, nan, nan, nan, nan, nan, nan, 280....\n",
       "2001-04-30    [[nan, nan, nan, nan, nan, nan, nan, nan, 281....\n",
       "2001-05-31    [[nan, nan, nan, nan, nan, nan, nan, nan, 284....\n",
       "                                    ...                        \n",
       "2010-07-31    [[nan, nan, nan, nan, nan, nan, nan, nan, 288....\n",
       "2010-08-31    [[nan, nan, nan, nan, nan, nan, nan, nan, 287....\n",
       "2010-09-30    [[nan, nan, nan, nan, nan, nan, nan, nan, 287....\n",
       "2010-10-31    [[nan, nan, nan, nan, nan, nan, nan, nan, 284....\n",
       "2010-11-30    [[nan, nan, nan, nan, nan, nan, nan, nan, 279....\n",
       "Freq: ME, Length: 119, dtype: object"
      ]
     },
     "execution_count": 33,
     "metadata": {},
     "output_type": "execute_result"
    }
   ],
   "source": [
    "temperature.head(-1)"
   ]
  },
  {
   "cell_type": "code",
   "execution_count": 34,
   "metadata": {},
   "outputs": [
    {
     "data": {
      "text/plain": [
       "<matplotlib.image.AxesImage at 0x17d3306d0>"
      ]
     },
     "execution_count": 34,
     "metadata": {},
     "output_type": "execute_result"
    },
    {
     "data": {
      "image/png": "[encoded data removed]",
      "text/plain": [
       "<Figure size 640x480 with 1 Axes>"
      ]
     },
     "metadata": {},
     "output_type": "display_data"
    }
   ],
   "source": [
    "plt.imshow(temperature.iloc[0])"
   ]
  },
  {
   "cell_type": "code",
   "execution_count": 35,
   "metadata": {},
   "outputs": [
    {
     "data": {
      "text/plain": [
       "2001-01-31    [[nan, nan, nan, nan, nan, nan, nan, nan, 85.1...\n",
       "2001-02-28    [[nan, nan, nan, nan, nan, nan, nan, nan, 84.8...\n",
       "2001-03-31    [[nan, nan, nan, nan, nan, nan, nan, nan, 82.7...\n",
       "2001-04-30    [[nan, nan, nan, nan, nan, nan, nan, nan, 84.7...\n",
       "2001-05-31    [[nan, nan, nan, nan, nan, nan, nan, nan, 84.5...\n",
       "                                    ...                        \n",
       "2010-07-31    [[nan, nan, nan, nan, nan, nan, nan, nan, 82.4...\n",
       "2010-08-31    [[nan, nan, nan, nan, nan, nan, nan, nan, 79.9...\n",
       "2010-09-30    [[nan, nan, nan, nan, nan, nan, nan, nan, 82.3...\n",
       "2010-10-31    [[nan, nan, nan, nan, nan, nan, nan, nan, 79.2...\n",
       "2010-11-30    [[nan, nan, nan, nan, nan, nan, nan, nan, 80.8...\n",
       "Freq: ME, Length: 119, dtype: object"
      ]
     },
     "execution_count": 35,
     "metadata": {},
     "output_type": "execute_result"
    }
   ],
   "source": [
    "humidity.head(-1)"
   ]
  },
  {
   "cell_type": "code",
   "execution_count": 36,
   "metadata": {},
   "outputs": [
    {
     "data": {
      "text/plain": [
       "<matplotlib.image.AxesImage at 0x17d38b520>"
      ]
     },
     "execution_count": 36,
     "metadata": {},
     "output_type": "execute_result"
    },
    {
     "data": {
      "image/png": "[encoded data removed]",
      "text/plain": [
       "<Figure size 640x480 with 1 Axes>"
      ]
     },
     "metadata": {},
     "output_type": "display_data"
    }
   ],
   "source": [
    "plt.imshow(humidity.iloc[0])"
   ]
  },
  {
   "cell_type": "code",
   "execution_count": 37,
   "metadata": {},
   "outputs": [
    {
     "data": {
      "text/plain": [
       "2001-01-31    [[nan, nan, nan, nan, nan, nan, nan, nan, 5.88...\n",
       "2001-02-28    [[nan, nan, nan, nan, nan, nan, nan, nan, 5.27...\n",
       "2001-03-31    [[nan, nan, nan, nan, nan, nan, nan, nan, 6.14...\n",
       "2001-04-30    [[nan, nan, nan, nan, nan, nan, nan, nan, 5.55...\n",
       "2001-05-31    [[nan, nan, nan, nan, nan, nan, nan, nan, 4.60...\n",
       "                                    ...                        \n",
       "2010-07-31    [[nan, nan, nan, nan, nan, nan, nan, nan, 4.98...\n",
       "2010-08-31    [[nan, nan, nan, nan, nan, nan, nan, nan, 4.83...\n",
       "2010-09-30    [[nan, nan, nan, nan, nan, nan, nan, nan, 5.38...\n",
       "2010-10-31    [[nan, nan, nan, nan, nan, nan, nan, nan, 6.26...\n",
       "2010-11-30    [[nan, nan, nan, nan, nan, nan, nan, nan, 6.83...\n",
       "Freq: ME, Length: 119, dtype: object"
      ]
     },
     "execution_count": 37,
     "metadata": {},
     "output_type": "execute_result"
    }
   ],
   "source": [
    "wind.head(-1)"
   ]
  },
  {
   "cell_type": "code",
   "execution_count": 38,
   "metadata": {},
   "outputs": [
    {
     "data": {
      "text/plain": [
       "<matplotlib.image.AxesImage at 0x17d3f2920>"
      ]
     },
     "execution_count": 38,
     "metadata": {},
     "output_type": "execute_result"
    },
    {
     "data": {
      "image/png": "[encoded data removed]",
      "text/plain": [
       "<Figure size 640x480 with 1 Axes>"
      ]
     },
     "metadata": {},
     "output_type": "display_data"
    }
   ],
   "source": [
    "plt.imshow(wind.iloc[0])"
   ]
  },
  {
   "cell_type": "code",
   "execution_count": 44,
   "metadata": {},
   "outputs": [
    {
     "data": {
      "text/plain": [
       "2001-01-31    [[nan, nan, nan, nan, nan, nan, nan, nan, nan,...\n",
       "2001-02-28    [[nan, nan, nan, nan, nan, nan, nan, nan, nan,...\n",
       "2001-03-31    [[nan, nan, nan, nan, nan, nan, nan, nan, nan,...\n",
       "2001-04-30    [[nan, nan, nan, nan, nan, nan, nan, nan, nan,...\n",
       "2001-05-31    [[nan, nan, nan, nan, nan, nan, nan, nan, nan,...\n",
       "                                    ...                        \n",
       "2010-07-31    [[nan, nan, nan, nan, nan, nan, nan, nan, nan,...\n",
       "2010-08-31    [[nan, nan, nan, nan, nan, nan, nan, nan, nan,...\n",
       "2010-09-30    [[nan, nan, nan, nan, nan, nan, nan, nan, nan,...\n",
       "2010-10-31    [[nan, nan, nan, nan, nan, nan, nan, nan, nan,...\n",
       "2010-11-30    [[nan, nan, nan, nan, nan, nan, nan, nan, nan,...\n",
       "Freq: ME, Length: 119, dtype: object"
      ]
     },
     "execution_count": 44,
     "metadata": {},
     "output_type": "execute_result"
    }
   ],
   "source": [
    "soil_moisture.head(-1)"
   ]
  },
  {
   "cell_type": "code",
   "execution_count": 39,
   "metadata": {},
   "outputs": [
    {
     "data": {
      "text/plain": [
       "<matplotlib.image.AxesImage at 0x17d443d60>"
      ]
     },
     "execution_count": 39,
     "metadata": {},
     "output_type": "execute_result"
    },
    {
     "data": {
      "image/png": "[encoded data removed]",
      "text/plain": [
       "<Figure size 640x480 with 1 Axes>"
      ]
     },
     "metadata": {},
     "output_type": "display_data"
    }
   ],
   "source": [
    "plt.imshow(soil_moisture.iloc[0])"
   ]
  },
  {
   "cell_type": "code",
   "execution_count": 40,
   "metadata": {},
   "outputs": [
    {
     "data": {
      "text/plain": [
       "2001-01-31    [[nan, nan, nan, nan, nan, nan, nan, 0.0, 65.0...\n",
       "2001-02-28    [[nan, nan, nan, nan, nan, nan, nan, 0.0, 0.0,...\n",
       "2001-03-31    [[nan, nan, nan, nan, nan, nan, nan, 0.0, 0.0,...\n",
       "2001-04-30    [[nan, nan, nan, nan, nan, nan, nan, 0.0, 0.0,...\n",
       "2001-05-31    [[nan, nan, nan, nan, nan, nan, nan, 0.0, 0.0,...\n",
       "                                    ...                        \n",
       "2010-07-31    [[nan, nan, nan, nan, nan, nan, nan, 0.0, 242....\n",
       "2010-08-31    [[nan, nan, nan, nan, nan, nan, nan, 0.0, 0.0,...\n",
       "2010-09-30    [[nan, nan, nan, nan, nan, nan, nan, 0.0, 722....\n",
       "2010-10-31    [[nan, nan, nan, nan, nan, nan, nan, 62.395593...\n",
       "2010-11-30    [[nan, nan, nan, nan, nan, nan, nan, 79.955371...\n",
       "Freq: ME, Length: 119, dtype: object"
      ]
     },
     "execution_count": 40,
     "metadata": {},
     "output_type": "execute_result"
    }
   ],
   "source": [
    "fireCCIL1982_2018.head(-1)"
   ]
  },
  {
   "cell_type": "code",
   "execution_count": 41,
   "metadata": {},
   "outputs": [
    {
     "data": {
      "text/plain": [
       "<matplotlib.image.AxesImage at 0x17d4d0f70>"
      ]
     },
     "execution_count": 41,
     "metadata": {},
     "output_type": "execute_result"
    },
    {
     "data": {
      "image/png": "[encoded data removed]",
      "text/plain": [
       "<Figure size 640x480 with 1 Axes>"
      ]
     },
     "metadata": {},
     "output_type": "display_data"
    }
   ],
   "source": [
    "plt.imshow(fireCCIL1982_2018.iloc[0])"
   ]
  },
  {
   "cell_type": "code",
   "execution_count": 42,
   "metadata": {},
   "outputs": [
    {
     "data": {
      "text/plain": [
       "2001-01-31    [[nan, nan, nan, nan, nan, nan, nan, 0.0, 0.0,...\n",
       "2001-02-28    [[nan, nan, nan, nan, nan, nan, nan, 0.0, 0.0,...\n",
       "2001-03-31    [[nan, nan, nan, nan, nan, nan, nan, 0.0, 0.0,...\n",
       "2001-04-30    [[nan, nan, nan, nan, nan, nan, nan, 0.0, 0.0,...\n",
       "2001-05-31    [[nan, nan, nan, nan, nan, nan, nan, 0.0, 0.0,...\n",
       "                                    ...                        \n",
       "2010-07-31    [[nan, nan, nan, nan, nan, nan, nan, 0.0, 0.0,...\n",
       "2010-08-31    [[nan, nan, nan, nan, nan, nan, nan, 0.0, 0.0,...\n",
       "2010-09-30    [[nan, nan, nan, nan, nan, nan, nan, 0.0, 0.0,...\n",
       "2010-10-31    [[nan, nan, nan, nan, nan, nan, nan, 0.0, 0.0,...\n",
       "2010-11-30    [[nan, nan, nan, nan, nan, nan, nan, 0.0, 0.0,...\n",
       "Freq: ME, Length: 119, dtype: object"
      ]
     },
     "execution_count": 42,
     "metadata": {},
     "output_type": "execute_result"
    }
   ],
   "source": [
    "mcd64.head(-1)"
   ]
  },
  {
   "cell_type": "code",
   "execution_count": 43,
   "metadata": {},
   "outputs": [
    {
     "data": {
      "text/plain": [
       "<matplotlib.colorbar.Colorbar at 0x17d56b100>"
      ]
     },
     "execution_count": 43,
     "metadata": {},
     "output_type": "execute_result"
    },
    {
     "data": {
      "image/png": "[encoded data removed]",
      "text/plain": [
       "<Figure size 640x480 with 2 Axes>"
      ]
     },
     "metadata": {},
     "output_type": "display_data"
    }
   ],
   "source": [
    "plt.imshow(mcd64.iloc[0])\n",
    "plt.colorbar()"
   ]
  }
 ],
 "metadata": {
  "kernelspec": {
   "display_name": "Pytorch",
   "language": "python",
   "name": "python3"
  },
  "language_info": {
   "codemirror_mode": {
    "name": "ipython",
    "version": 3
   },
   "file_extension": ".py",
   "mimetype": "text/x-python",
   "name": "python",
   "nbconvert_exporter": "python",
   "pygments_lexer": "ipython3",
   "version": "3.10.14"
  }
 },
 "nbformat": 4,
 "nbformat_minor": 2
}
